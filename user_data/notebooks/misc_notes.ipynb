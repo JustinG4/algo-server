"DOGE/USDT", "SNX/USDT", "XRP/USDT"

Sub-strategies:
1) Single trade using entire $1000 allocation
2) only trade cryptos under $X.00
3) only trade highest profit simulated cryptos
    - ID 27
4) only exit via roi